{
 "cells": [
  {
   "cell_type": "markdown",
   "id": "fa4c06e6-09d6-4fb1-8625-e91f180d5e50",
   "metadata": {},
   "source": [
    "## Word Guessing Game"
   ]
  },
  {
   "cell_type": "code",
   "execution_count": 1,
   "id": "4721104a-0576-42e5-a033-ed36deb02773",
   "metadata": {},
   "outputs": [],
   "source": [
    "import random"
   ]
  },
  {
   "cell_type": "code",
   "execution_count": 3,
   "id": "5aeb96d6-2b7a-44c9-b6f2-36b63731bccc",
   "metadata": {},
   "outputs": [
    {
     "name": "stdin",
     "output_type": "stream",
     "text": [
      "What is your name? Kirti\n"
     ]
    },
    {
     "name": "stdout",
     "output_type": "stream",
     "text": [
      "Good Luck! Kirti\n",
      "Guess the characters\n",
      "_\n",
      "_\n",
      "_\n",
      "_\n",
      "_\n",
      "_\n",
      "_\n",
      "_\n",
      "_\n",
      "\n"
     ]
    },
    {
     "name": "stdin",
     "output_type": "stream",
     "text": [
      "Guess a character: n\n"
     ]
    },
    {
     "name": "stdout",
     "output_type": "stream",
     "text": [
      "_\n",
      "_\n",
      "n _\n",
      "_\n",
      "_\n",
      "_\n",
      "_\n",
      "n \n"
     ]
    },
    {
     "name": "stdin",
     "output_type": "stream",
     "text": [
      "Guess a character: c\n"
     ]
    },
    {
     "name": "stdout",
     "output_type": "stream",
     "text": [
      "c _\n",
      "n _\n",
      "_\n",
      "_\n",
      "_\n",
      "_\n",
      "n \n"
     ]
    },
    {
     "name": "stdin",
     "output_type": "stream",
     "text": [
      "Guess a character: o\n"
     ]
    },
    {
     "name": "stdout",
     "output_type": "stream",
     "text": [
      "c o n _\n",
      "_\n",
      "_\n",
      "_\n",
      "o n \n"
     ]
    },
    {
     "name": "stdin",
     "output_type": "stream",
     "text": [
      "Guess a character: d\n"
     ]
    },
    {
     "name": "stdout",
     "output_type": "stream",
     "text": [
      "c o n d _\n",
      "_\n",
      "_\n",
      "o n \n"
     ]
    },
    {
     "name": "stdin",
     "output_type": "stream",
     "text": [
      "Guess a character: i\n"
     ]
    },
    {
     "name": "stdout",
     "output_type": "stream",
     "text": [
      "c o n d i _\n",
      "i o n \n"
     ]
    },
    {
     "name": "stdin",
     "output_type": "stream",
     "text": [
      "Guess a character: t\n"
     ]
    },
    {
     "name": "stdout",
     "output_type": "stream",
     "text": [
      "c o n d i t i o n You Win\n",
      "The word is: condition\n"
     ]
    }
   ],
   "source": [
    "name=input(\"What is your name?\")\n",
    "print(\"Good Luck!\",name)\n",
    "words=['rainbow', 'computer', 'science', 'programming', 'python', 'mathematics', 'player', 'condition',\n",
    "       'reverse', 'water', 'board', 'geeks']\n",
    "word=random.choice(words)\n",
    "print(\"Guess the characters\")\n",
    "guesses=''\n",
    "turns=11\n",
    "while turns>0:\n",
    "    failed=0\n",
    "    for char in word:\n",
    "        if char in guesses:\n",
    "            print(char,end=\" \")\n",
    "        else:\n",
    "            print(\"_\")\n",
    "            failed+=1\n",
    "    if failed==0:\n",
    "        print(\"You Win\")\n",
    "        print(\"The word is:\",word)\n",
    "        break\n",
    "    print()\n",
    "    guess=input(\"Guess a character:\")\n",
    "    guesses+=guess\n",
    "    if guess not in word:\n",
    "        turns -=1\n",
    "        print(\"Wrong\")\n",
    "        print(\"You have\",+ turns, \"more guesses\")\n",
    "        if turns==0:\n",
    "            print(\"You Loose\")"
   ]
  },
  {
   "cell_type": "code",
   "execution_count": null,
   "id": "1508e816-5b5c-4bdf-a0dc-f186d31a64e9",
   "metadata": {},
   "outputs": [],
   "source": []
  }
 ],
 "metadata": {
  "kernelspec": {
   "display_name": "Python 3 (ipykernel)",
   "language": "python",
   "name": "python3"
  },
  "language_info": {
   "codemirror_mode": {
    "name": "ipython",
    "version": 3
   },
   "file_extension": ".py",
   "mimetype": "text/x-python",
   "name": "python",
   "nbconvert_exporter": "python",
   "pygments_lexer": "ipython3",
   "version": "3.12.7"
  }
 },
 "nbformat": 4,
 "nbformat_minor": 5
}
